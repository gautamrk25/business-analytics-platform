{
  "cells": [
    {
      "cell_type": "code",
      "execution_count": null,
      "metadata": {},
      "outputs": [],
      "source": [
        "{\n",
        " \"cells\": [\n",
        "  {\n",
        "   \"cell_type\": \"markdown\",\n",
        "   \"metadata\": {},\n",
        "   \"source\": [\n",
        "    \"# QuickStart Notebook\\n\",\n",
        "    \"This notebook provides a quick start environment with common ML libraries pre-imported.\"\n",
        "   ]\n",
        "  },\n",
        "  {\n",
        "   \"cell_type\": \"code\",\n",
        "   \"execution_count\": null,\n",
        "   \"metadata\": {},\n",
        "   \"source\": [\n",
        "    \"# Common imports\\n\",\n",
        "    \"import numpy as np\\n\",\n",
        "    \"import pandas as pd\\n\",\n",
        "    \"import matplotlib.pyplot as plt\\n\",\n",
        "    \"import seaborn as sns\\n\",\n",
        "    \"\\n\",\n",
        "    \"# ML libraries\\n\",\n",
        "    \"import sklearn\\n\",\n",
        "    \"import tensorflow as tf\\n\",\n",
        "    \"import torch\\n\",\n",
        "    \"\\n\",\n",
        "    \"# Display settings\\n\",\n",
        "    \"%matplotlib inline\\n\",\n",
        "    \"plt.style.use('seaborn')\"\n",
        "   ]\n",
        "  }\n",
        " ],\n",
        " \"metadata\": {\n",
        "  \"kernelspec\": {\n",
        "   \"display_name\": \"Python 3\",\n",
        "   \"language\": \"python\",\n",
        "   \"name\": \"python3\"\n",
        "  }\n",
        " }\n",
        "}"
      ]
    }
  ],
  "metadata": {
    "language_info": {
      "name": "python"
    },
    "notebook_info": {
      "created_at": "2024-12-27T23:15:57.049280",
      "template": "quickstart",
      "environment": "n1-standard-4",
      "region": "us-central1",
      "framework": "jupyter",
      "description": ""
    }
  },
  "nbformat": 4,
  "nbformat_minor": 2
}